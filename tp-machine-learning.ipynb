{
 "cells": [
  {
   "cell_type": "markdown",
   "metadata": {},
   "source": [
    "# Entrenamiento de un modelo de Cross Selling\n",
    "* Universo: Clientes de un banco\n",
    "* Objetivo: Predecir que clientes van a comprar un paquete "
   ]
  },
  {
   "cell_type": "code",
   "execution_count": 710,
   "metadata": {},
   "outputs": [],
   "source": [
    "import pandas as pd\n",
    "import numpy as np"
   ]
  },
  {
   "cell_type": "code",
   "execution_count": 711,
   "metadata": {},
   "outputs": [
    {
     "data": {
      "text/plain": [
       "client_id               int64\n",
       "Target                float64\n",
       "Month                  object\n",
       "First_product_dt       object\n",
       "Last_product_dt        object\n",
       "                       ...   \n",
       "Investment_Numbers    float64\n",
       "Mobile                 object\n",
       "Email                  object\n",
       "Region                 object\n",
       "CreditCard_Product     object\n",
       "Length: 77, dtype: object"
      ]
     },
     "execution_count": 711,
     "metadata": {},
     "output_type": "execute_result"
    }
   ],
   "source": [
    "data = pd.read_csv('./data.csv', sep='|', dtype={'client_id':np.int64})\n",
    "data.dtypes"
   ]
  },
  {
   "cell_type": "code",
   "execution_count": 712,
   "metadata": {},
   "outputs": [
    {
     "data": {
      "text/plain": [
       "(238615, 77)"
      ]
     },
     "execution_count": 712,
     "metadata": {},
     "output_type": "execute_result"
    }
   ],
   "source": [
    "data.shape"
   ]
  },
  {
   "cell_type": "code",
   "execution_count": 713,
   "metadata": {},
   "outputs": [
    {
     "data": {
      "text/html": [
       "<div>\n",
       "<style scoped>\n",
       "    .dataframe tbody tr th:only-of-type {\n",
       "        vertical-align: middle;\n",
       "    }\n",
       "\n",
       "    .dataframe tbody tr th {\n",
       "        vertical-align: top;\n",
       "    }\n",
       "\n",
       "    .dataframe thead th {\n",
       "        text-align: right;\n",
       "    }\n",
       "</style>\n",
       "<table border=\"1\" class=\"dataframe\">\n",
       "  <thead>\n",
       "    <tr style=\"text-align: right;\">\n",
       "      <th></th>\n",
       "      <th>0</th>\n",
       "      <th>1</th>\n",
       "      <th>2</th>\n",
       "      <th>3</th>\n",
       "      <th>4</th>\n",
       "    </tr>\n",
       "  </thead>\n",
       "  <tbody>\n",
       "    <tr>\n",
       "      <th>client_id</th>\n",
       "      <td>5856970</td>\n",
       "      <td>6371753</td>\n",
       "      <td>5928737</td>\n",
       "      <td>475064</td>\n",
       "      <td>3615172</td>\n",
       "    </tr>\n",
       "    <tr>\n",
       "      <th>Target</th>\n",
       "      <td>1.0</td>\n",
       "      <td>0.0</td>\n",
       "      <td>0.0</td>\n",
       "      <td>0.0</td>\n",
       "      <td>0.0</td>\n",
       "    </tr>\n",
       "    <tr>\n",
       "      <th>Month</th>\n",
       "      <td>2018-10-01</td>\n",
       "      <td>2018-09-01</td>\n",
       "      <td>2019-01-01</td>\n",
       "      <td>2018-12-01</td>\n",
       "      <td>2018-09-01</td>\n",
       "    </tr>\n",
       "    <tr>\n",
       "      <th>First_product_dt</th>\n",
       "      <td>2013-10-23</td>\n",
       "      <td>2015-07-29</td>\n",
       "      <td>2016-08-31</td>\n",
       "      <td>2014-07-13</td>\n",
       "      <td>2017-12-27</td>\n",
       "    </tr>\n",
       "    <tr>\n",
       "      <th>Last_product_dt</th>\n",
       "      <td>2019-01-10</td>\n",
       "      <td>2018-06-02</td>\n",
       "      <td>2018-12-27</td>\n",
       "      <td>2017-11-30</td>\n",
       "      <td>2017-12-28</td>\n",
       "    </tr>\n",
       "    <tr>\n",
       "      <th>...</th>\n",
       "      <td>...</td>\n",
       "      <td>...</td>\n",
       "      <td>...</td>\n",
       "      <td>...</td>\n",
       "      <td>...</td>\n",
       "    </tr>\n",
       "    <tr>\n",
       "      <th>Investment_Numbers</th>\n",
       "      <td>1.0</td>\n",
       "      <td>0.0</td>\n",
       "      <td>0.0</td>\n",
       "      <td>0.0</td>\n",
       "      <td>0.0</td>\n",
       "    </tr>\n",
       "    <tr>\n",
       "      <th>Mobile</th>\n",
       "      <td>Yes</td>\n",
       "      <td>Yes</td>\n",
       "      <td>Yes</td>\n",
       "      <td>Yes</td>\n",
       "      <td>Yes</td>\n",
       "    </tr>\n",
       "    <tr>\n",
       "      <th>Email</th>\n",
       "      <td>Yes</td>\n",
       "      <td>No</td>\n",
       "      <td>Yes</td>\n",
       "      <td>Yes</td>\n",
       "      <td>No</td>\n",
       "    </tr>\n",
       "    <tr>\n",
       "      <th>Region</th>\n",
       "      <td>NaN</td>\n",
       "      <td>NaN</td>\n",
       "      <td>NaN</td>\n",
       "      <td>NaN</td>\n",
       "      <td>NaN</td>\n",
       "    </tr>\n",
       "    <tr>\n",
       "      <th>CreditCard_Product</th>\n",
       "      <td>NaN</td>\n",
       "      <td>NaN</td>\n",
       "      <td>NaN</td>\n",
       "      <td>NaN</td>\n",
       "      <td>NaN</td>\n",
       "    </tr>\n",
       "  </tbody>\n",
       "</table>\n",
       "<p>77 rows × 5 columns</p>\n",
       "</div>"
      ],
      "text/plain": [
       "                             0           1           2           3           4\n",
       "client_id              5856970     6371753     5928737      475064     3615172\n",
       "Target                     1.0         0.0         0.0         0.0         0.0\n",
       "Month               2018-10-01  2018-09-01  2019-01-01  2018-12-01  2018-09-01\n",
       "First_product_dt    2013-10-23  2015-07-29  2016-08-31  2014-07-13  2017-12-27\n",
       "Last_product_dt     2019-01-10  2018-06-02  2018-12-27  2017-11-30  2017-12-28\n",
       "...                        ...         ...         ...         ...         ...\n",
       "Investment_Numbers         1.0         0.0         0.0         0.0         0.0\n",
       "Mobile                     Yes         Yes         Yes         Yes         Yes\n",
       "Email                      Yes          No         Yes         Yes          No\n",
       "Region                     NaN         NaN         NaN         NaN         NaN\n",
       "CreditCard_Product         NaN         NaN         NaN         NaN         NaN\n",
       "\n",
       "[77 rows x 5 columns]"
      ]
     },
     "execution_count": 713,
     "metadata": {},
     "output_type": "execute_result"
    }
   ],
   "source": [
    "data.head(5).T"
   ]
  },
  {
   "cell_type": "code",
   "execution_count": 714,
   "metadata": {},
   "outputs": [
    {
     "data": {
      "text/plain": [
       "Index(['client_id', 'Target', 'Month', 'First_product_dt', 'Last_product_dt',\n",
       "       'CreditCard_Premium', 'CreditCard_Active', 'CreditCard_CoBranding',\n",
       "       'Loan_Active', 'Mortgage_Active', 'SavingAccount_Active_ARG_Salary',\n",
       "       'SavingAccount_Active_ARG', 'SavingAccount_Active_DOLLAR',\n",
       "       'DebitCard_Active', 'Investment_Active', 'Package_Active',\n",
       "       'Insurance_Life', 'Insurance_Home', 'Insurance_Accidents',\n",
       "       'Insurance_Mobile', 'Insurance_ATM', 'Insurance_Unemployment', 'Sex',\n",
       "       'Client_Age_grp', 'SavingAccount_Balance_FirstDate',\n",
       "       'SavingAccount_Balance_LastDate', 'SavingAccount_Balance_Average',\n",
       "       'SavingAccount_Days_with_use', 'SavingAccount_Days_with_Credits',\n",
       "       'SavingAccount_Days_with_Debits',\n",
       "       'SavingAccount_Salary_Payment_Transactions',\n",
       "       'SavingAccount_Transfer_In_Transactions',\n",
       "       'SavingAccount_ATM_Extraction_Transactions',\n",
       "       'SavingAccount_Service_Payment_Transactions',\n",
       "       'SavingAccount_CreditCard_Payment_Transactions',\n",
       "       'SavingAccount_Transfer_Out_Transactions',\n",
       "       'SavingAccount_DebitCard_Spend_Transactions',\n",
       "       'SavingAccount_Transactions_Transactions',\n",
       "       'SavingAccount_Credits_Transactions',\n",
       "       'SavingAccount_Debits_Transactions',\n",
       "       'SavingAccount_Salary_Payment_Amount',\n",
       "       'SavingAccount_Transfer_In_Amount',\n",
       "       'SavingAccount_ATM_Extraction_Amount',\n",
       "       'SavingAccount_Service_Payment_Amount',\n",
       "       'SavingAccount_CreditCard_Payment_Amount',\n",
       "       'SavingAccount_Transfer_Out_Amount',\n",
       "       'SavingAccount_DebitCard_Spend_Amount', 'SavingAccount_Total_Amount',\n",
       "       'SavingAccount_Credits_Amounts', 'SavingAccount_Debits_Amounts',\n",
       "       'Operations_Bank', 'Operations_Terminal', 'Operations_HomeBanking',\n",
       "       'Operations_Mobile', 'Operations_Ivr', 'Operations_Telemarketer',\n",
       "       'Operations_ATM', 'CreditCard_Balance_ARG', 'CreditCard_Balance_DOLLAR',\n",
       "       'CreditCard_Total_Limit', 'CreditCard_Total_Spending',\n",
       "       'CreditCard_Spending_1_Installment', 'CreditCard_Spending_Installments',\n",
       "       'CreditCard_Spending_CrossBoarder', 'CreditCard_Spending_Aut_Debits',\n",
       "       'CreditCard_Revolving', 'CreditCard_Payment_Aut_Debit',\n",
       "       'CreditCard_Payment_External', 'CreditCard_Payment_Cash',\n",
       "       'CreditCard_Payment_Web', 'CreditCard_Payment_ATM',\n",
       "       'CreditCard_Payment_TAS', 'Investment_Numbers', 'Mobile', 'Email',\n",
       "       'Region', 'CreditCard_Product'],\n",
       "      dtype='object')"
      ]
     },
     "execution_count": 714,
     "metadata": {},
     "output_type": "execute_result"
    }
   ],
   "source": [
    "data.columns"
   ]
  },
  {
   "cell_type": "markdown",
   "metadata": {},
   "source": [
    "# 1. Seleccion de Universo y Target"
   ]
  },
  {
   "cell_type": "markdown",
   "metadata": {},
   "source": [
    "### CU: Take only clients with 9 Months of Data"
   ]
  },
  {
   "cell_type": "code",
   "execution_count": 715,
   "metadata": {},
   "outputs": [
    {
     "data": {
      "text/html": [
       "<div>\n",
       "<style scoped>\n",
       "    .dataframe tbody tr th:only-of-type {\n",
       "        vertical-align: middle;\n",
       "    }\n",
       "\n",
       "    .dataframe tbody tr th {\n",
       "        vertical-align: top;\n",
       "    }\n",
       "\n",
       "    .dataframe thead th {\n",
       "        text-align: right;\n",
       "    }\n",
       "</style>\n",
       "<table border=\"1\" class=\"dataframe\">\n",
       "  <thead>\n",
       "    <tr style=\"text-align: right;\">\n",
       "      <th></th>\n",
       "      <th>Month</th>\n",
       "      <th>count</th>\n",
       "    </tr>\n",
       "  </thead>\n",
       "  <tbody>\n",
       "    <tr>\n",
       "      <th>0</th>\n",
       "      <td>2019-03-01</td>\n",
       "      <td>26547</td>\n",
       "    </tr>\n",
       "    <tr>\n",
       "      <th>1</th>\n",
       "      <td>2019-04-01</td>\n",
       "      <td>26547</td>\n",
       "    </tr>\n",
       "    <tr>\n",
       "      <th>2</th>\n",
       "      <td>2019-02-01</td>\n",
       "      <td>26512</td>\n",
       "    </tr>\n",
       "    <tr>\n",
       "      <th>3</th>\n",
       "      <td>2019-01-01</td>\n",
       "      <td>26503</td>\n",
       "    </tr>\n",
       "    <tr>\n",
       "      <th>4</th>\n",
       "      <td>2018-08-01</td>\n",
       "      <td>26502</td>\n",
       "    </tr>\n",
       "    <tr>\n",
       "      <th>5</th>\n",
       "      <td>2018-10-01</td>\n",
       "      <td>26501</td>\n",
       "    </tr>\n",
       "    <tr>\n",
       "      <th>6</th>\n",
       "      <td>2018-09-01</td>\n",
       "      <td>26501</td>\n",
       "    </tr>\n",
       "    <tr>\n",
       "      <th>7</th>\n",
       "      <td>2018-12-01</td>\n",
       "      <td>26501</td>\n",
       "    </tr>\n",
       "    <tr>\n",
       "      <th>8</th>\n",
       "      <td>2018-11-01</td>\n",
       "      <td>26501</td>\n",
       "    </tr>\n",
       "  </tbody>\n",
       "</table>\n",
       "</div>"
      ],
      "text/plain": [
       "        Month  count\n",
       "0  2019-03-01  26547\n",
       "1  2019-04-01  26547\n",
       "2  2019-02-01  26512\n",
       "3  2019-01-01  26503\n",
       "4  2018-08-01  26502\n",
       "5  2018-10-01  26501\n",
       "6  2018-09-01  26501\n",
       "7  2018-12-01  26501\n",
       "8  2018-11-01  26501"
      ]
     },
     "execution_count": 715,
     "metadata": {},
     "output_type": "execute_result"
    }
   ],
   "source": [
    "data['Month'].value_counts().reset_index()"
   ]
  },
  {
   "cell_type": "code",
   "execution_count": 716,
   "metadata": {},
   "outputs": [
    {
     "data": {
      "text/html": [
       "<div>\n",
       "<style scoped>\n",
       "    .dataframe tbody tr th:only-of-type {\n",
       "        vertical-align: middle;\n",
       "    }\n",
       "\n",
       "    .dataframe tbody tr th {\n",
       "        vertical-align: top;\n",
       "    }\n",
       "\n",
       "    .dataframe thead th {\n",
       "        text-align: right;\n",
       "    }\n",
       "</style>\n",
       "<table border=\"1\" class=\"dataframe\">\n",
       "  <thead>\n",
       "    <tr style=\"text-align: right;\">\n",
       "      <th></th>\n",
       "      <th>count_nonzero</th>\n",
       "      <th>count</th>\n",
       "    </tr>\n",
       "  </thead>\n",
       "  <tbody>\n",
       "    <tr>\n",
       "      <th>0</th>\n",
       "      <td>9</td>\n",
       "      <td>26483</td>\n",
       "    </tr>\n",
       "    <tr>\n",
       "      <th>1</th>\n",
       "      <td>2</td>\n",
       "      <td>38</td>\n",
       "    </tr>\n",
       "    <tr>\n",
       "      <th>2</th>\n",
       "      <td>8</td>\n",
       "      <td>9</td>\n",
       "    </tr>\n",
       "    <tr>\n",
       "      <th>3</th>\n",
       "      <td>7</td>\n",
       "      <td>9</td>\n",
       "    </tr>\n",
       "    <tr>\n",
       "      <th>4</th>\n",
       "      <td>3</td>\n",
       "      <td>9</td>\n",
       "    </tr>\n",
       "    <tr>\n",
       "      <th>5</th>\n",
       "      <td>1</td>\n",
       "      <td>6</td>\n",
       "    </tr>\n",
       "    <tr>\n",
       "      <th>6</th>\n",
       "      <td>4</td>\n",
       "      <td>6</td>\n",
       "    </tr>\n",
       "  </tbody>\n",
       "</table>\n",
       "</div>"
      ],
      "text/plain": [
       "   count_nonzero  count\n",
       "0              9  26483\n",
       "1              2     38\n",
       "2              8      9\n",
       "3              7      9\n",
       "4              3      9\n",
       "5              1      6\n",
       "6              4      6"
      ]
     },
     "execution_count": 716,
     "metadata": {},
     "output_type": "execute_result"
    }
   ],
   "source": [
    "# Agrupo los clientes por mes\n",
    "months = data.groupby('client_id')['Month'].agg([np.count_nonzero],).reset_index()\n",
    "months.count_nonzero.value_counts().reset_index()"
   ]
  },
  {
   "cell_type": "code",
   "execution_count": 717,
   "metadata": {},
   "outputs": [
    {
     "data": {
      "text/plain": [
       "(26483, 1)"
      ]
     },
     "execution_count": 717,
     "metadata": {},
     "output_type": "execute_result"
    }
   ],
   "source": [
    "# Genero el df de clientes con 9 meses de antiguedad\n",
    "df_clients_with_nine_month_data = months[months.count_nonzero == 9][['client_id']].drop_duplicates().copy()\n",
    "df_clients_with_nine_month_data.shape"
   ]
  },
  {
   "attachments": {
    "screenshot_2024-10-06_334x178.png": {
     "image/png": "[encoded data removed]"
    }
   },
   "cell_type": "markdown",
   "metadata": {},
   "source": [
    "### CU: Take only clients without Active Package\n",
    "#### Universe windows\n",
    "![screenshot_2024-10-06_334x178.png](attachment:screenshot_2024-10-06_334x178.png)"
   ]
  },
  {
   "cell_type": "code",
   "execution_count": 718,
   "metadata": {},
   "outputs": [
    {
     "data": {
      "text/plain": [
       "(26503, 4)"
      ]
     },
     "execution_count": 718,
     "metadata": {},
     "output_type": "execute_result"
    }
   ],
   "source": [
    "# Clientes del ultimo mes de train\n",
    "df_last_month_of_train = data[data['Month'] == '2019-01-01'][['client_id', 'Package_Active', 'Month', 'Target']]\n",
    "df_last_month_of_train.shape"
   ]
  },
  {
   "cell_type": "code",
   "execution_count": 719,
   "metadata": {},
   "outputs": [
    {
     "data": {
      "text/plain": [
       "(23660, 1)"
      ]
     },
     "execution_count": 719,
     "metadata": {},
     "output_type": "execute_result"
    }
   ],
   "source": [
    "# Genero el df de clientes sin conbranding del ultimo mes de train\n",
    "df_last_month_of_train_no_cobrand = data[(data['Month'] == '2019-01-01') & (data['CreditCard_CoBranding'] == 'No')][['client_id']]\n",
    "df_last_month_of_train_no_cobrand.shape"
   ]
  },
  {
   "cell_type": "code",
   "execution_count": 720,
   "metadata": {},
   "outputs": [
    {
     "data": {
      "text/plain": [
       "(26026, 1)"
      ]
     },
     "execution_count": 720,
     "metadata": {},
     "output_type": "execute_result"
    }
   ],
   "source": [
    "# Genero el df de clientes sin paquetes activos del ultimo mes de train\n",
    "df_last_month_of_train_no_package = data[(data['Month'] == '2019-01-01') & (data['Package_Active'] == 'No')][['client_id']]\n",
    "df_last_month_of_train_no_package.shape"
   ]
  },
  {
   "cell_type": "code",
   "execution_count": 721,
   "metadata": {},
   "outputs": [
    {
     "name": "stdout",
     "output_type": "stream",
     "text": [
      "UNIVERSO: (23191, 1)\n"
     ]
    }
   ],
   "source": [
    "# Genero el universo: clientes con 9 meses de datos, sin paquete activo y sin cobranding en 2019-01-01\n",
    "universe = df_clients_with_nine_month_data.merge(df_last_month_of_train_no_package, how='inner', on='client_id')\\\n",
    "                                        .merge(df_last_month_of_train_no_cobrand, how='inner', on='client_id')\\\n",
    "                                        .drop_duplicates()\n",
    "\n",
    "print(f\"UNIVERSO: {universe.shape}\")"
   ]
  },
  {
   "cell_type": "markdown",
   "metadata": {},
   "source": [
    "### CU: Getting Target"
   ]
  },
  {
   "cell_type": "code",
   "execution_count": 722,
   "metadata": {},
   "outputs": [
    {
     "data": {
      "text/plain": [
       "(238615, 77)"
      ]
     },
     "execution_count": 722,
     "metadata": {},
     "output_type": "execute_result"
    }
   ],
   "source": [
    "# Todos los datos del .csv\n",
    "data.shape"
   ]
  },
  {
   "cell_type": "code",
   "execution_count": 723,
   "metadata": {},
   "outputs": [
    {
     "data": {
      "text/plain": [
       "(208719, 77)"
      ]
     },
     "execution_count": 723,
     "metadata": {},
     "output_type": "execute_result"
    }
   ],
   "source": [
    "# Datos filtrados con el universo\n",
    "data_universe = data.merge(universe, how='inner', on='client_id')\n",
    "data_universe.shape"
   ]
  },
  {
   "cell_type": "code",
   "execution_count": 724,
   "metadata": {},
   "outputs": [
    {
     "data": {
      "text/plain": [
       "Month\n",
       "2018-10-01    23191\n",
       "2018-09-01    23191\n",
       "2019-01-01    23191\n",
       "2018-12-01    23191\n",
       "2019-02-01    23191\n",
       "2019-04-01    23191\n",
       "2018-11-01    23191\n",
       "2018-08-01    23191\n",
       "2019-03-01    23191\n",
       "Name: count, dtype: int64"
      ]
     },
     "execution_count": 724,
     "metadata": {},
     "output_type": "execute_result"
    }
   ],
   "source": [
    "data_universe.Month.value_counts()"
   ]
  },
  {
   "cell_type": "code",
   "execution_count": 725,
   "metadata": {},
   "outputs": [
    {
     "data": {
      "text/plain": [
       "(6823, 1)"
      ]
     },
     "execution_count": 725,
     "metadata": {},
     "output_type": "execute_result"
    }
   ],
   "source": [
    "target_universe = data_universe[(data_universe.Month.isin(['2019-03-01', '2019-04-01'])) & (data_universe.Target == 1)][['client_id']].drop_duplicates()\n",
    "target_universe.shape"
   ]
  },
  {
   "cell_type": "code",
   "execution_count": 726,
   "metadata": {},
   "outputs": [
    {
     "data": {
      "text/plain": [
       "(6823, 2)"
      ]
     },
     "execution_count": 726,
     "metadata": {},
     "output_type": "execute_result"
    }
   ],
   "source": [
    "target_universe['TGT'] = 1\n",
    "target_universe.shape"
   ]
  },
  {
   "cell_type": "code",
   "execution_count": 727,
   "metadata": {},
   "outputs": [
    {
     "data": {
      "text/html": [
       "<div>\n",
       "<style scoped>\n",
       "    .dataframe tbody tr th:only-of-type {\n",
       "        vertical-align: middle;\n",
       "    }\n",
       "\n",
       "    .dataframe tbody tr th {\n",
       "        vertical-align: top;\n",
       "    }\n",
       "\n",
       "    .dataframe thead th {\n",
       "        text-align: right;\n",
       "    }\n",
       "</style>\n",
       "<table border=\"1\" class=\"dataframe\">\n",
       "  <thead>\n",
       "    <tr style=\"text-align: right;\">\n",
       "      <th></th>\n",
       "      <th>TGT</th>\n",
       "      <th>count</th>\n",
       "    </tr>\n",
       "  </thead>\n",
       "  <tbody>\n",
       "    <tr>\n",
       "      <th>0</th>\n",
       "      <td>0.0</td>\n",
       "      <td>16368</td>\n",
       "    </tr>\n",
       "    <tr>\n",
       "      <th>1</th>\n",
       "      <td>1.0</td>\n",
       "      <td>6823</td>\n",
       "    </tr>\n",
       "  </tbody>\n",
       "</table>\n",
       "</div>"
      ],
      "text/plain": [
       "   TGT  count\n",
       "0  0.0  16368\n",
       "1  1.0   6823"
      ]
     },
     "execution_count": 727,
     "metadata": {},
     "output_type": "execute_result"
    }
   ],
   "source": [
    "target = universe.merge(target_universe, how='left', on='client_id').fillna(0)\n",
    "target.TGT.value_counts().reset_index()"
   ]
  },
  {
   "cell_type": "code",
   "execution_count": 728,
   "metadata": {},
   "outputs": [
    {
     "name": "stdout",
     "output_type": "stream",
     "text": [
      "TOTAL: 23191 - OBJETIVO: 6823 (29.42%)\n"
     ]
    }
   ],
   "source": [
    "total = target.TGT.count()\n",
    "objetivo = target[target.TGT == 1.0].TGT.count()\n",
    "obj_porcentaje = round((objetivo/total) * 100, 2)\n",
    "print(f\"TOTAL: {total} - OBJETIVO: {objetivo} ({obj_porcentaje}%)\")"
   ]
  },
  {
   "cell_type": "markdown",
   "metadata": {},
   "source": [
    "# 2. Preprocesamiento y Transformación"
   ]
  },
  {
   "cell_type": "code",
   "execution_count": 730,
   "metadata": {},
   "outputs": [
    {
     "data": {
      "text/html": [
       "<div>\n",
       "<style scoped>\n",
       "    .dataframe tbody tr th:only-of-type {\n",
       "        vertical-align: middle;\n",
       "    }\n",
       "\n",
       "    .dataframe tbody tr th {\n",
       "        vertical-align: top;\n",
       "    }\n",
       "\n",
       "    .dataframe thead th {\n",
       "        text-align: right;\n",
       "    }\n",
       "</style>\n",
       "<table border=\"1\" class=\"dataframe\">\n",
       "  <thead>\n",
       "    <tr style=\"text-align: right;\">\n",
       "      <th></th>\n",
       "      <th>Month</th>\n",
       "      <th>count</th>\n",
       "    </tr>\n",
       "  </thead>\n",
       "  <tbody>\n",
       "    <tr>\n",
       "      <th>0</th>\n",
       "      <td>2018-10-01</td>\n",
       "      <td>23191</td>\n",
       "    </tr>\n",
       "    <tr>\n",
       "      <th>1</th>\n",
       "      <td>2018-09-01</td>\n",
       "      <td>23191</td>\n",
       "    </tr>\n",
       "    <tr>\n",
       "      <th>2</th>\n",
       "      <td>2019-01-01</td>\n",
       "      <td>23191</td>\n",
       "    </tr>\n",
       "    <tr>\n",
       "      <th>3</th>\n",
       "      <td>2018-12-01</td>\n",
       "      <td>23191</td>\n",
       "    </tr>\n",
       "    <tr>\n",
       "      <th>4</th>\n",
       "      <td>2018-11-01</td>\n",
       "      <td>23191</td>\n",
       "    </tr>\n",
       "    <tr>\n",
       "      <th>5</th>\n",
       "      <td>2018-08-01</td>\n",
       "      <td>23191</td>\n",
       "    </tr>\n",
       "  </tbody>\n",
       "</table>\n",
       "</div>"
      ],
      "text/plain": [
       "        Month  count\n",
       "0  2018-10-01  23191\n",
       "1  2018-09-01  23191\n",
       "2  2019-01-01  23191\n",
       "3  2018-12-01  23191\n",
       "4  2018-11-01  23191\n",
       "5  2018-08-01  23191"
      ]
     },
     "execution_count": 730,
     "metadata": {},
     "output_type": "execute_result"
    }
   ],
   "source": [
    "# Genero el df de la ventana de entrenamiento\n",
    "training_window_universe = data_universe[data_universe.Month.isin(['2018-08-01', '2018-09-01', '2018-10-01', '2018-11-01', '2018-12-01', '2019-01-01'])]\n",
    "training_window_universe.Month.value_counts().reset_index()"
   ]
  },
  {
   "cell_type": "markdown",
   "metadata": {},
   "source": [
    "### CU: Find Data Types"
   ]
  },
  {
   "cell_type": "code",
   "execution_count": 731,
   "metadata": {},
   "outputs": [
    {
     "name": "stdout",
     "output_type": "stream",
     "text": [
      "<class 'pandas.core.frame.DataFrame'>\n",
      "Index: 139146 entries, 0 to 208716\n",
      "Data columns (total 77 columns):\n",
      " #   Column                                         Non-Null Count   Dtype  \n",
      "---  ------                                         --------------   -----  \n",
      " 0   client_id                                      139146 non-null  int64  \n",
      " 1   Target                                         139146 non-null  float64\n",
      " 2   Month                                          139146 non-null  object \n",
      " 3   First_product_dt                               139146 non-null  object \n",
      " 4   Last_product_dt                                139146 non-null  object \n",
      " 5   CreditCard_Premium                             139146 non-null  object \n",
      " 6   CreditCard_Active                              139146 non-null  object \n",
      " 7   CreditCard_CoBranding                          139146 non-null  object \n",
      " 8   Loan_Active                                    139146 non-null  object \n",
      " 9   Mortgage_Active                                139146 non-null  object \n",
      " 10  SavingAccount_Active_ARG_Salary                139146 non-null  object \n",
      " 11  SavingAccount_Active_ARG                       139146 non-null  object \n",
      " 12  SavingAccount_Active_DOLLAR                    139146 non-null  object \n",
      " 13  DebitCard_Active                               139146 non-null  object \n",
      " 14  Investment_Active                              139146 non-null  object \n",
      " 15  Package_Active                                 139146 non-null  object \n",
      " 16  Insurance_Life                                 139146 non-null  object \n",
      " 17  Insurance_Home                                 139146 non-null  object \n",
      " 18  Insurance_Accidents                            139146 non-null  object \n",
      " 19  Insurance_Mobile                               139146 non-null  object \n",
      " 20  Insurance_ATM                                  139146 non-null  object \n",
      " 21  Insurance_Unemployment                         139146 non-null  object \n",
      " 22  Sex                                            139146 non-null  object \n",
      " 23  Client_Age_grp                                 139146 non-null  object \n",
      " 24  SavingAccount_Balance_FirstDate                139146 non-null  float64\n",
      " 25  SavingAccount_Balance_LastDate                 139146 non-null  float64\n",
      " 26  SavingAccount_Balance_Average                  139142 non-null  float64\n",
      " 27  SavingAccount_Days_with_use                    139146 non-null  float64\n",
      " 28  SavingAccount_Days_with_Credits                139146 non-null  float64\n",
      " 29  SavingAccount_Days_with_Debits                 139146 non-null  float64\n",
      " 30  SavingAccount_Salary_Payment_Transactions      139146 non-null  float64\n",
      " 31  SavingAccount_Transfer_In_Transactions         139146 non-null  float64\n",
      " 32  SavingAccount_ATM_Extraction_Transactions      139146 non-null  float64\n",
      " 33  SavingAccount_Service_Payment_Transactions     139146 non-null  float64\n",
      " 34  SavingAccount_CreditCard_Payment_Transactions  139146 non-null  float64\n",
      " 35  SavingAccount_Transfer_Out_Transactions        139146 non-null  float64\n",
      " 36  SavingAccount_DebitCard_Spend_Transactions     139146 non-null  float64\n",
      " 37  SavingAccount_Transactions_Transactions        139146 non-null  float64\n",
      " 38  SavingAccount_Credits_Transactions             139146 non-null  float64\n",
      " 39  SavingAccount_Debits_Transactions              139146 non-null  float64\n",
      " 40  SavingAccount_Salary_Payment_Amount            139146 non-null  float64\n",
      " 41  SavingAccount_Transfer_In_Amount               139146 non-null  float64\n",
      " 42  SavingAccount_ATM_Extraction_Amount            139146 non-null  float64\n",
      " 43  SavingAccount_Service_Payment_Amount           139146 non-null  float64\n",
      " 44  SavingAccount_CreditCard_Payment_Amount        139146 non-null  float64\n",
      " 45  SavingAccount_Transfer_Out_Amount              139146 non-null  float64\n",
      " 46  SavingAccount_DebitCard_Spend_Amount           139146 non-null  float64\n",
      " 47  SavingAccount_Total_Amount                     139146 non-null  float64\n",
      " 48  SavingAccount_Credits_Amounts                  139146 non-null  float64\n",
      " 49  SavingAccount_Debits_Amounts                   139146 non-null  float64\n",
      " 50  Operations_Bank                                139146 non-null  float64\n",
      " 51  Operations_Terminal                            139146 non-null  float64\n",
      " 52  Operations_HomeBanking                         139146 non-null  float64\n",
      " 53  Operations_Mobile                              139146 non-null  float64\n",
      " 54  Operations_Ivr                                 139146 non-null  float64\n",
      " 55  Operations_Telemarketer                        139146 non-null  float64\n",
      " 56  Operations_ATM                                 139146 non-null  float64\n",
      " 57  CreditCard_Balance_ARG                         139146 non-null  float64\n",
      " 58  CreditCard_Balance_DOLLAR                      139146 non-null  float64\n",
      " 59  CreditCard_Total_Limit                         139146 non-null  float64\n",
      " 60  CreditCard_Total_Spending                      139146 non-null  float64\n",
      " 61  CreditCard_Spending_1_Installment              139146 non-null  float64\n",
      " 62  CreditCard_Spending_Installments               139146 non-null  float64\n",
      " 63  CreditCard_Spending_CrossBoarder               139146 non-null  float64\n",
      " 64  CreditCard_Spending_Aut_Debits                 139146 non-null  float64\n",
      " 65  CreditCard_Revolving                           139146 non-null  float64\n",
      " 66  CreditCard_Payment_Aut_Debit                   139146 non-null  float64\n",
      " 67  CreditCard_Payment_External                    139146 non-null  float64\n",
      " 68  CreditCard_Payment_Cash                        139146 non-null  float64\n",
      " 69  CreditCard_Payment_Web                         139146 non-null  float64\n",
      " 70  CreditCard_Payment_ATM                         139146 non-null  float64\n",
      " 71  CreditCard_Payment_TAS                         139146 non-null  float64\n",
      " 72  Investment_Numbers                             139146 non-null  float64\n",
      " 73  Mobile                                         139146 non-null  object \n",
      " 74  Email                                          139146 non-null  object \n",
      " 75  Region                                         0 non-null       object \n",
      " 76  CreditCard_Product                             0 non-null       object \n",
      "dtypes: float64(50), int64(1), object(26)\n",
      "memory usage: 82.8+ MB\n"
     ]
    }
   ],
   "source": [
    "training_window_universe.info()"
   ]
  },
  {
   "cell_type": "code",
   "execution_count": 732,
   "metadata": {},
   "outputs": [
    {
     "data": {
      "text/html": [
       "<div>\n",
       "<style scoped>\n",
       "    .dataframe tbody tr th:only-of-type {\n",
       "        vertical-align: middle;\n",
       "    }\n",
       "\n",
       "    .dataframe tbody tr th {\n",
       "        vertical-align: top;\n",
       "    }\n",
       "\n",
       "    .dataframe thead th {\n",
       "        text-align: right;\n",
       "    }\n",
       "</style>\n",
       "<table border=\"1\" class=\"dataframe\">\n",
       "  <thead>\n",
       "    <tr style=\"text-align: right;\">\n",
       "      <th></th>\n",
       "      <th>index</th>\n",
       "      <th>count</th>\n",
       "    </tr>\n",
       "  </thead>\n",
       "  <tbody>\n",
       "    <tr>\n",
       "      <th>0</th>\n",
       "      <td>float64</td>\n",
       "      <td>50</td>\n",
       "    </tr>\n",
       "    <tr>\n",
       "      <th>1</th>\n",
       "      <td>object</td>\n",
       "      <td>26</td>\n",
       "    </tr>\n",
       "    <tr>\n",
       "      <th>2</th>\n",
       "      <td>int64</td>\n",
       "      <td>1</td>\n",
       "    </tr>\n",
       "  </tbody>\n",
       "</table>\n",
       "</div>"
      ],
      "text/plain": [
       "     index  count\n",
       "0  float64     50\n",
       "1   object     26\n",
       "2    int64      1"
      ]
     },
     "execution_count": 732,
     "metadata": {},
     "output_type": "execute_result"
    }
   ],
   "source": [
    "training_window_universe.dtypes.value_counts().reset_index()"
   ]
  },
  {
   "cell_type": "markdown",
   "metadata": {},
   "source": [
    "### CU: Find Identity Feature"
   ]
  },
  {
   "cell_type": "code",
   "execution_count": 733,
   "metadata": {},
   "outputs": [
    {
     "data": {
      "text/plain": [
       "(23191, 25)"
      ]
     },
     "execution_count": 733,
     "metadata": {},
     "output_type": "execute_result"
    }
   ],
   "source": [
    "# Genero los posibles identity features del ultimo mes del training window\n",
    "identity_features = training_window_universe[training_window_universe.Month == '2019-01-01']\\\n",
    "    [['client_id', 'First_product_dt', 'Last_product_dt', 'Month',\n",
    "      'CreditCard_Premium', 'CreditCard_Active', 'Loan_Active', 'Mortgage_Active',\n",
    "      'SavingAccount_Active_ARG_Salary', 'SavingAccount_Active_ARG', 'SavingAccount_Active_DOLLAR',\n",
    "      'DebitCard_Active', 'Investment_Active',\n",
    "      'Insurance_Life', 'Insurance_Home', 'Insurance_Accidents', 'Insurance_Mobile', 'Insurance_ATM', 'Insurance_Unemployment',\n",
    "      'Sex', 'Client_Age_grp', 'Mobile', 'Email', 'Region', 'CreditCard_Product']]\n",
    "\n",
    "identity_features.shape"
   ]
  },
  {
   "cell_type": "code",
   "execution_count": 734,
   "metadata": {},
   "outputs": [
    {
     "name": "stderr",
     "output_type": "stream",
     "text": [
      "/tmp/ipykernel_1424521/1224474285.py:2: SettingWithCopyWarning: \n",
      "A value is trying to be set on a copy of a slice from a DataFrame\n",
      "\n",
      "See the caveats in the documentation: https://pandas.pydata.org/pandas-docs/stable/user_guide/indexing.html#returning-a-view-versus-a-copy\n",
      "  training_window_universe.drop(['First_product_dt', 'Last_product_dt', 'Month',\n"
     ]
    },
    {
     "data": {
      "text/plain": [
       "(139146, 53)"
      ]
     },
     "execution_count": 734,
     "metadata": {},
     "output_type": "execute_result"
    }
   ],
   "source": [
    "# Se eliminan los identity features del universo\n",
    "training_window_universe.drop(['First_product_dt', 'Last_product_dt', 'Month',\n",
    "      'CreditCard_Premium', 'CreditCard_Active', 'Loan_Active', 'Mortgage_Active',\n",
    "      'SavingAccount_Active_ARG_Salary', 'SavingAccount_Active_ARG', 'SavingAccount_Active_DOLLAR',\n",
    "      'DebitCard_Active', 'Investment_Active',\n",
    "      'Insurance_Life', 'Insurance_Home', 'Insurance_Accidents', 'Insurance_Mobile', 'Insurance_ATM', 'Insurance_Unemployment',\n",
    "      'Sex', 'Client_Age_grp', 'Mobile', 'Email', 'Region', 'CreditCard_Product'], inplace=True, axis=1)\n",
    "training_window_universe.shape"
   ]
  },
  {
   "cell_type": "markdown",
   "metadata": {},
   "source": [
    "### CU: Find Transform Features"
   ]
  },
  {
   "cell_type": "code",
   "execution_count": 735,
   "metadata": {},
   "outputs": [
    {
     "data": {
      "text/html": [
       "<div>\n",
       "<style scoped>\n",
       "    .dataframe tbody tr th:only-of-type {\n",
       "        vertical-align: middle;\n",
       "    }\n",
       "\n",
       "    .dataframe tbody tr th {\n",
       "        vertical-align: top;\n",
       "    }\n",
       "\n",
       "    .dataframe thead th {\n",
       "        text-align: right;\n",
       "    }\n",
       "</style>\n",
       "<table border=\"1\" class=\"dataframe\">\n",
       "  <thead>\n",
       "    <tr style=\"text-align: right;\">\n",
       "      <th></th>\n",
       "      <th>Client_Age_grp</th>\n",
       "      <th>count</th>\n",
       "    </tr>\n",
       "  </thead>\n",
       "  <tbody>\n",
       "    <tr>\n",
       "      <th>0</th>\n",
       "      <td>Entre 40 y 49 años</td>\n",
       "      <td>6563</td>\n",
       "    </tr>\n",
       "    <tr>\n",
       "      <th>1</th>\n",
       "      <td>Entre 30 y 39 años</td>\n",
       "      <td>5308</td>\n",
       "    </tr>\n",
       "    <tr>\n",
       "      <th>2</th>\n",
       "      <td>Entre 50 y 59 años</td>\n",
       "      <td>5149</td>\n",
       "    </tr>\n",
       "    <tr>\n",
       "      <th>3</th>\n",
       "      <td>Entre 60 y 64 años</td>\n",
       "      <td>2122</td>\n",
       "    </tr>\n",
       "    <tr>\n",
       "      <th>4</th>\n",
       "      <td>Entre 65 y 69 años</td>\n",
       "      <td>1745</td>\n",
       "    </tr>\n",
       "    <tr>\n",
       "      <th>5</th>\n",
       "      <td>Mayor a 70 años</td>\n",
       "      <td>1315</td>\n",
       "    </tr>\n",
       "    <tr>\n",
       "      <th>6</th>\n",
       "      <td>Entre 18 y 29 años</td>\n",
       "      <td>989</td>\n",
       "    </tr>\n",
       "  </tbody>\n",
       "</table>\n",
       "</div>"
      ],
      "text/plain": [
       "       Client_Age_grp  count\n",
       "0  Entre 40 y 49 años   6563\n",
       "1  Entre 30 y 39 años   5308\n",
       "2  Entre 50 y 59 años   5149\n",
       "3  Entre 60 y 64 años   2122\n",
       "4  Entre 65 y 69 años   1745\n",
       "5     Mayor a 70 años   1315\n",
       "6  Entre 18 y 29 años    989"
      ]
     },
     "execution_count": 735,
     "metadata": {},
     "output_type": "execute_result"
    }
   ],
   "source": [
    "# Ejemplo de transform feature\n",
    "identity_features.Client_Age_grp.value_counts().reset_index()"
   ]
  },
  {
   "cell_type": "code",
   "execution_count": 736,
   "metadata": {},
   "outputs": [
    {
     "data": {
      "text/html": [
       "<div>\n",
       "<style scoped>\n",
       "    .dataframe tbody tr th:only-of-type {\n",
       "        vertical-align: middle;\n",
       "    }\n",
       "\n",
       "    .dataframe tbody tr th {\n",
       "        vertical-align: top;\n",
       "    }\n",
       "\n",
       "    .dataframe thead th {\n",
       "        text-align: right;\n",
       "    }\n",
       "</style>\n",
       "<table border=\"1\" class=\"dataframe\">\n",
       "  <thead>\n",
       "    <tr style=\"text-align: right;\">\n",
       "      <th></th>\n",
       "      <th>Client_Age_grp_ordinal</th>\n",
       "      <th>count</th>\n",
       "    </tr>\n",
       "  </thead>\n",
       "  <tbody>\n",
       "    <tr>\n",
       "      <th>0</th>\n",
       "      <td>3</td>\n",
       "      <td>6563</td>\n",
       "    </tr>\n",
       "    <tr>\n",
       "      <th>1</th>\n",
       "      <td>2</td>\n",
       "      <td>5308</td>\n",
       "    </tr>\n",
       "    <tr>\n",
       "      <th>2</th>\n",
       "      <td>4</td>\n",
       "      <td>5149</td>\n",
       "    </tr>\n",
       "    <tr>\n",
       "      <th>3</th>\n",
       "      <td>5</td>\n",
       "      <td>2122</td>\n",
       "    </tr>\n",
       "    <tr>\n",
       "      <th>4</th>\n",
       "      <td>6</td>\n",
       "      <td>1745</td>\n",
       "    </tr>\n",
       "    <tr>\n",
       "      <th>5</th>\n",
       "      <td>7</td>\n",
       "      <td>1315</td>\n",
       "    </tr>\n",
       "    <tr>\n",
       "      <th>6</th>\n",
       "      <td>1</td>\n",
       "      <td>989</td>\n",
       "    </tr>\n",
       "  </tbody>\n",
       "</table>\n",
       "</div>"
      ],
      "text/plain": [
       "   Client_Age_grp_ordinal  count\n",
       "0                       3   6563\n",
       "1                       2   5308\n",
       "2                       4   5149\n",
       "3                       5   2122\n",
       "4                       6   1745\n",
       "5                       7   1315\n",
       "6                       1    989"
      ]
     },
     "execution_count": 736,
     "metadata": {},
     "output_type": "execute_result"
    }
   ],
   "source": [
    "# Transformo los rangos de edad a valores ordinales\n",
    "ages_dict = {\n",
    "    'Entre 18 y 29 años': 1,\n",
    "    'Entre 30 y 39 años': 2,\n",
    "    'Entre 40 y 49 años': 3,\n",
    "    'Entre 50 y 59 años': 4,\n",
    "    'Entre 60 y 64 años': 5,\n",
    "    'Entre 65 y 69 años': 6,\n",
    "    'Mayor a 70 años': 7,\n",
    "}\n",
    "\n",
    "identity_features['Client_Age_grp_ordinal'] = identity_features['Client_Age_grp'].map(ages_dict)\n",
    "identity_features['Client_Age_grp_ordinal'].value_counts().reset_index()"
   ]
  },
  {
   "cell_type": "code",
   "execution_count": 737,
   "metadata": {},
   "outputs": [
    {
     "data": {
      "text/html": [
       "<div>\n",
       "<style scoped>\n",
       "    .dataframe tbody tr th:only-of-type {\n",
       "        vertical-align: middle;\n",
       "    }\n",
       "\n",
       "    .dataframe tbody tr th {\n",
       "        vertical-align: top;\n",
       "    }\n",
       "\n",
       "    .dataframe thead th {\n",
       "        text-align: right;\n",
       "    }\n",
       "</style>\n",
       "<table border=\"1\" class=\"dataframe\">\n",
       "  <thead>\n",
       "    <tr style=\"text-align: right;\">\n",
       "      <th></th>\n",
       "      <th>Active_Insurance</th>\n",
       "      <th>count</th>\n",
       "    </tr>\n",
       "  </thead>\n",
       "  <tbody>\n",
       "    <tr>\n",
       "      <th>0</th>\n",
       "      <td>0</td>\n",
       "      <td>23191</td>\n",
       "    </tr>\n",
       "  </tbody>\n",
       "</table>\n",
       "</div>"
      ],
      "text/plain": [
       "   Active_Insurance  count\n",
       "0                 0  23191"
      ]
     },
     "execution_count": 737,
     "metadata": {},
     "output_type": "execute_result"
    }
   ],
   "source": [
    "# Generacion de nuevas features (suma de features)\n",
    "identity_features['Active_Insurance'] = np.where(identity_features.Insurance_Life == 'Yes', 1, 0) \\\n",
    "    + np.where(identity_features.Insurance_Home == 'Yes', 1, 0) \\\n",
    "    + np.where(identity_features.Insurance_Accidents == 'Yes', 1, 0) \\\n",
    "    + np.where(identity_features.Insurance_Mobile == 'Yes', 1, 0) \\\n",
    "    + np.where(identity_features.Insurance_ATM == 'Yes', 1, 0) \\\n",
    "    + np.where(identity_features.Insurance_Unemployment == 'Yes', 1, 0)\n",
    "\n",
    "identity_features['Active_Insurance'].value_counts().reset_index()"
   ]
  },
  {
   "cell_type": "code",
   "execution_count": 738,
   "metadata": {},
   "outputs": [
    {
     "data": {
      "text/html": [
       "<div>\n",
       "<style scoped>\n",
       "    .dataframe tbody tr th:only-of-type {\n",
       "        vertical-align: middle;\n",
       "    }\n",
       "\n",
       "    .dataframe tbody tr th {\n",
       "        vertical-align: top;\n",
       "    }\n",
       "\n",
       "    .dataframe thead th {\n",
       "        text-align: right;\n",
       "    }\n",
       "</style>\n",
       "<table border=\"1\" class=\"dataframe\">\n",
       "  <thead>\n",
       "    <tr style=\"text-align: right;\">\n",
       "      <th></th>\n",
       "      <th>Active_Products</th>\n",
       "      <th>count</th>\n",
       "    </tr>\n",
       "  </thead>\n",
       "  <tbody>\n",
       "    <tr>\n",
       "      <th>0</th>\n",
       "      <td>1</td>\n",
       "      <td>6628</td>\n",
       "    </tr>\n",
       "    <tr>\n",
       "      <th>1</th>\n",
       "      <td>3</td>\n",
       "      <td>6040</td>\n",
       "    </tr>\n",
       "    <tr>\n",
       "      <th>2</th>\n",
       "      <td>4</td>\n",
       "      <td>5726</td>\n",
       "    </tr>\n",
       "    <tr>\n",
       "      <th>3</th>\n",
       "      <td>2</td>\n",
       "      <td>2680</td>\n",
       "    </tr>\n",
       "    <tr>\n",
       "      <th>4</th>\n",
       "      <td>5</td>\n",
       "      <td>1992</td>\n",
       "    </tr>\n",
       "    <tr>\n",
       "      <th>5</th>\n",
       "      <td>6</td>\n",
       "      <td>106</td>\n",
       "    </tr>\n",
       "    <tr>\n",
       "      <th>6</th>\n",
       "      <td>0</td>\n",
       "      <td>17</td>\n",
       "    </tr>\n",
       "    <tr>\n",
       "      <th>7</th>\n",
       "      <td>7</td>\n",
       "      <td>2</td>\n",
       "    </tr>\n",
       "  </tbody>\n",
       "</table>\n",
       "</div>"
      ],
      "text/plain": [
       "   Active_Products  count\n",
       "0                1   6628\n",
       "1                3   6040\n",
       "2                4   5726\n",
       "3                2   2680\n",
       "4                5   1992\n",
       "5                6    106\n",
       "6                0     17\n",
       "7                7      2"
      ]
     },
     "execution_count": 738,
     "metadata": {},
     "output_type": "execute_result"
    }
   ],
   "source": [
    "identity_features['Active_Products'] = np.where(identity_features.Loan_Active == 'Yes', 1, 0) \\\n",
    "    + np.where(identity_features.CreditCard_Active == 'Yes', 1, 0) \\\n",
    "    + np.where(identity_features.Mortgage_Active == 'Yes', 1, 0) \\\n",
    "    + np.where(identity_features.SavingAccount_Active_ARG == 'Yes', 1, 0) \\\n",
    "    + np.where(identity_features.SavingAccount_Active_DOLLAR == 'Yes', 1, 0) \\\n",
    "    + np.where(identity_features.DebitCard_Active == 'Yes', 1, 0) \\\n",
    "    + np.where(identity_features.Investment_Active == 'Yes', 1, 0) \\\n",
    "    + np.where(identity_features.Active_Insurance > 0, 1, 0)\n",
    "\n",
    "identity_features['Active_Products'].value_counts().reset_index()\n"
   ]
  },
  {
   "cell_type": "code",
   "execution_count": 739,
   "metadata": {},
   "outputs": [],
   "source": [
    "# Como ningun cliente tiene seguros activos, no tiene sentido tener este feature\n",
    "identity_features.drop(['Active_Insurance'], inplace=True, axis=1)"
   ]
  },
  {
   "cell_type": "code",
   "execution_count": 740,
   "metadata": {},
   "outputs": [
    {
     "data": {
      "text/plain": [
       "Month    datetime64[ns]\n",
       "dtype: object"
      ]
     },
     "execution_count": 740,
     "metadata": {},
     "output_type": "execute_result"
    }
   ],
   "source": [
    "# Transformacion de fechas\n",
    "\n",
    "# Primero paso fechas de tipo object a fechas de tipo datetime para poder operar\n",
    "identity_features['First_product_dt'] = pd.to_datetime(identity_features['First_product_dt'])\n",
    "identity_features['Last_product_dt'] = pd.to_datetime(identity_features['Last_product_dt'])\n",
    "identity_features['Month'] = pd.to_datetime(identity_features['Month'])\n",
    "\n",
    "identity_features[['Month']].dtypes"
   ]
  },
  {
   "cell_type": "code",
   "execution_count": 741,
   "metadata": {},
   "outputs": [
    {
     "data": {
      "text/html": [
       "<div>\n",
       "<style scoped>\n",
       "    .dataframe tbody tr th:only-of-type {\n",
       "        vertical-align: middle;\n",
       "    }\n",
       "\n",
       "    .dataframe tbody tr th {\n",
       "        vertical-align: top;\n",
       "    }\n",
       "\n",
       "    .dataframe thead th {\n",
       "        text-align: right;\n",
       "    }\n",
       "</style>\n",
       "<table border=\"1\" class=\"dataframe\">\n",
       "  <thead>\n",
       "    <tr style=\"text-align: right;\">\n",
       "      <th></th>\n",
       "      <th>Months_From_First_Product</th>\n",
       "      <th>count</th>\n",
       "    </tr>\n",
       "  </thead>\n",
       "  <tbody>\n",
       "    <tr>\n",
       "      <th>0</th>\n",
       "      <td>175.600000</td>\n",
       "      <td>212</td>\n",
       "    </tr>\n",
       "    <tr>\n",
       "      <th>1</th>\n",
       "      <td>130.133333</td>\n",
       "      <td>104</td>\n",
       "    </tr>\n",
       "    <tr>\n",
       "      <th>2</th>\n",
       "      <td>144.200000</td>\n",
       "      <td>101</td>\n",
       "    </tr>\n",
       "    <tr>\n",
       "      <th>3</th>\n",
       "      <td>141.900000</td>\n",
       "      <td>101</td>\n",
       "    </tr>\n",
       "    <tr>\n",
       "      <th>4</th>\n",
       "      <td>149.300000</td>\n",
       "      <td>91</td>\n",
       "    </tr>\n",
       "    <tr>\n",
       "      <th>...</th>\n",
       "      <td>...</td>\n",
       "      <td>...</td>\n",
       "    </tr>\n",
       "    <tr>\n",
       "      <th>3638</th>\n",
       "      <td>126.533333</td>\n",
       "      <td>1</td>\n",
       "    </tr>\n",
       "    <tr>\n",
       "      <th>3639</th>\n",
       "      <td>288.200000</td>\n",
       "      <td>1</td>\n",
       "    </tr>\n",
       "    <tr>\n",
       "      <th>3640</th>\n",
       "      <td>146.566667</td>\n",
       "      <td>1</td>\n",
       "    </tr>\n",
       "    <tr>\n",
       "      <th>3641</th>\n",
       "      <td>222.100000</td>\n",
       "      <td>1</td>\n",
       "    </tr>\n",
       "    <tr>\n",
       "      <th>3642</th>\n",
       "      <td>145.100000</td>\n",
       "      <td>1</td>\n",
       "    </tr>\n",
       "  </tbody>\n",
       "</table>\n",
       "<p>3643 rows × 2 columns</p>\n",
       "</div>"
      ],
      "text/plain": [
       "      Months_From_First_Product  count\n",
       "0                    175.600000    212\n",
       "1                    130.133333    104\n",
       "2                    144.200000    101\n",
       "3                    141.900000    101\n",
       "4                    149.300000     91\n",
       "...                         ...    ...\n",
       "3638                 126.533333      1\n",
       "3639                 288.200000      1\n",
       "3640                 146.566667      1\n",
       "3641                 222.100000      1\n",
       "3642                 145.100000      1\n",
       "\n",
       "[3643 rows x 2 columns]"
      ]
     },
     "execution_count": 741,
     "metadata": {},
     "output_type": "execute_result"
    }
   ],
   "source": [
    "identity_features['Months_From_First_Product'] = (identity_features['Month'] - identity_features['First_product_dt']).dt.days / 30\n",
    "identity_features['Months_From_First_Product'].value_counts().reset_index()"
   ]
  },
  {
   "cell_type": "code",
   "execution_count": 742,
   "metadata": {},
   "outputs": [
    {
     "data": {
      "text/html": [
       "<div>\n",
       "<style scoped>\n",
       "    .dataframe tbody tr th:only-of-type {\n",
       "        vertical-align: middle;\n",
       "    }\n",
       "\n",
       "    .dataframe tbody tr th {\n",
       "        vertical-align: top;\n",
       "    }\n",
       "\n",
       "    .dataframe thead th {\n",
       "        text-align: right;\n",
       "    }\n",
       "</style>\n",
       "<table border=\"1\" class=\"dataframe\">\n",
       "  <thead>\n",
       "    <tr style=\"text-align: right;\">\n",
       "      <th></th>\n",
       "      <th>Months_From_First_Last_Product</th>\n",
       "      <th>count</th>\n",
       "    </tr>\n",
       "  </thead>\n",
       "  <tbody>\n",
       "    <tr>\n",
       "      <th>0</th>\n",
       "      <td>0.000000</td>\n",
       "      <td>5271</td>\n",
       "    </tr>\n",
       "    <tr>\n",
       "      <th>1</th>\n",
       "      <td>0.033333</td>\n",
       "      <td>894</td>\n",
       "    </tr>\n",
       "    <tr>\n",
       "      <th>2</th>\n",
       "      <td>34.600000</td>\n",
       "      <td>303</td>\n",
       "    </tr>\n",
       "    <tr>\n",
       "      <th>3</th>\n",
       "      <td>0.066667</td>\n",
       "      <td>187</td>\n",
       "    </tr>\n",
       "    <tr>\n",
       "      <th>4</th>\n",
       "      <td>34.666667</td>\n",
       "      <td>80</td>\n",
       "    </tr>\n",
       "    <tr>\n",
       "      <th>...</th>\n",
       "      <td>...</td>\n",
       "      <td>...</td>\n",
       "    </tr>\n",
       "    <tr>\n",
       "      <th>4113</th>\n",
       "      <td>122.033333</td>\n",
       "      <td>1</td>\n",
       "    </tr>\n",
       "    <tr>\n",
       "      <th>4114</th>\n",
       "      <td>28.166667</td>\n",
       "      <td>1</td>\n",
       "    </tr>\n",
       "    <tr>\n",
       "      <th>4115</th>\n",
       "      <td>5.033333</td>\n",
       "      <td>1</td>\n",
       "    </tr>\n",
       "    <tr>\n",
       "      <th>4116</th>\n",
       "      <td>169.366667</td>\n",
       "      <td>1</td>\n",
       "    </tr>\n",
       "    <tr>\n",
       "      <th>4117</th>\n",
       "      <td>155.566667</td>\n",
       "      <td>1</td>\n",
       "    </tr>\n",
       "  </tbody>\n",
       "</table>\n",
       "<p>4118 rows × 2 columns</p>\n",
       "</div>"
      ],
      "text/plain": [
       "      Months_From_First_Last_Product  count\n",
       "0                           0.000000   5271\n",
       "1                           0.033333    894\n",
       "2                          34.600000    303\n",
       "3                           0.066667    187\n",
       "4                          34.666667     80\n",
       "...                              ...    ...\n",
       "4113                      122.033333      1\n",
       "4114                       28.166667      1\n",
       "4115                        5.033333      1\n",
       "4116                      169.366667      1\n",
       "4117                      155.566667      1\n",
       "\n",
       "[4118 rows x 2 columns]"
      ]
     },
     "execution_count": 742,
     "metadata": {},
     "output_type": "execute_result"
    }
   ],
   "source": [
    "identity_features['Months_From_First_Last_Product'] = (identity_features['Last_product_dt'] - identity_features['First_product_dt']).dt.days / 30\n",
    "identity_features['Months_From_First_Last_Product'].value_counts().reset_index()"
   ]
  },
  {
   "cell_type": "code",
   "execution_count": 743,
   "metadata": {},
   "outputs": [
    {
     "data": {
      "text/html": [
       "<div>\n",
       "<style scoped>\n",
       "    .dataframe tbody tr th:only-of-type {\n",
       "        vertical-align: middle;\n",
       "    }\n",
       "\n",
       "    .dataframe tbody tr th {\n",
       "        vertical-align: top;\n",
       "    }\n",
       "\n",
       "    .dataframe thead th {\n",
       "        text-align: right;\n",
       "    }\n",
       "</style>\n",
       "<table border=\"1\" class=\"dataframe\">\n",
       "  <thead>\n",
       "    <tr style=\"text-align: right;\">\n",
       "      <th></th>\n",
       "      <th>Months_From_Last_Product</th>\n",
       "      <th>count</th>\n",
       "    </tr>\n",
       "  </thead>\n",
       "  <tbody>\n",
       "    <tr>\n",
       "      <th>0</th>\n",
       "      <td>1.133333</td>\n",
       "      <td>919</td>\n",
       "    </tr>\n",
       "    <tr>\n",
       "      <th>1</th>\n",
       "      <td>-0.100000</td>\n",
       "      <td>601</td>\n",
       "    </tr>\n",
       "    <tr>\n",
       "      <th>2</th>\n",
       "      <td>0.433333</td>\n",
       "      <td>565</td>\n",
       "    </tr>\n",
       "    <tr>\n",
       "      <th>3</th>\n",
       "      <td>0.166667</td>\n",
       "      <td>564</td>\n",
       "    </tr>\n",
       "    <tr>\n",
       "      <th>4</th>\n",
       "      <td>0.633333</td>\n",
       "      <td>548</td>\n",
       "    </tr>\n",
       "    <tr>\n",
       "      <th>...</th>\n",
       "      <td>...</td>\n",
       "      <td>...</td>\n",
       "    </tr>\n",
       "    <tr>\n",
       "      <th>3098</th>\n",
       "      <td>10.566667</td>\n",
       "      <td>1</td>\n",
       "    </tr>\n",
       "    <tr>\n",
       "      <th>3099</th>\n",
       "      <td>117.766667</td>\n",
       "      <td>1</td>\n",
       "    </tr>\n",
       "    <tr>\n",
       "      <th>3100</th>\n",
       "      <td>36.166667</td>\n",
       "      <td>1</td>\n",
       "    </tr>\n",
       "    <tr>\n",
       "      <th>3101</th>\n",
       "      <td>107.533333</td>\n",
       "      <td>1</td>\n",
       "    </tr>\n",
       "    <tr>\n",
       "      <th>3102</th>\n",
       "      <td>66.066667</td>\n",
       "      <td>1</td>\n",
       "    </tr>\n",
       "  </tbody>\n",
       "</table>\n",
       "<p>3103 rows × 2 columns</p>\n",
       "</div>"
      ],
      "text/plain": [
       "      Months_From_Last_Product  count\n",
       "0                     1.133333    919\n",
       "1                    -0.100000    601\n",
       "2                     0.433333    565\n",
       "3                     0.166667    564\n",
       "4                     0.633333    548\n",
       "...                        ...    ...\n",
       "3098                 10.566667      1\n",
       "3099                117.766667      1\n",
       "3100                 36.166667      1\n",
       "3101                107.533333      1\n",
       "3102                 66.066667      1\n",
       "\n",
       "[3103 rows x 2 columns]"
      ]
     },
     "execution_count": 743,
     "metadata": {},
     "output_type": "execute_result"
    }
   ],
   "source": [
    "identity_features['Months_From_Last_Product'] = (identity_features['Month'] - identity_features['Last_product_dt']).dt.days / 30\n",
    "identity_features['Months_From_Last_Product'].value_counts().reset_index()"
   ]
  },
  {
   "cell_type": "code",
   "execution_count": 744,
   "metadata": {},
   "outputs": [
    {
     "data": {
      "text/html": [
       "<div>\n",
       "<style scoped>\n",
       "    .dataframe tbody tr th:only-of-type {\n",
       "        vertical-align: middle;\n",
       "    }\n",
       "\n",
       "    .dataframe tbody tr th {\n",
       "        vertical-align: top;\n",
       "    }\n",
       "\n",
       "    .dataframe thead th {\n",
       "        text-align: right;\n",
       "    }\n",
       "</style>\n",
       "<table border=\"1\" class=\"dataframe\">\n",
       "  <thead>\n",
       "    <tr style=\"text-align: right;\">\n",
       "      <th></th>\n",
       "      <th>First_product_dt</th>\n",
       "      <th>Last_product_dt</th>\n",
       "      <th>Month</th>\n",
       "      <th>Months_From_First_Product</th>\n",
       "      <th>Months_From_First_Last_Product</th>\n",
       "      <th>Months_From_Last_Product</th>\n",
       "    </tr>\n",
       "  </thead>\n",
       "  <tbody>\n",
       "    <tr>\n",
       "      <th>2</th>\n",
       "      <td>2016-08-31</td>\n",
       "      <td>2018-12-27</td>\n",
       "      <td>2019-01-01</td>\n",
       "      <td>28.433333</td>\n",
       "      <td>28.266667</td>\n",
       "      <td>0.166667</td>\n",
       "    </tr>\n",
       "    <tr>\n",
       "      <th>10</th>\n",
       "      <td>2014-04-29</td>\n",
       "      <td>2017-05-31</td>\n",
       "      <td>2019-01-01</td>\n",
       "      <td>56.933333</td>\n",
       "      <td>37.600000</td>\n",
       "      <td>19.333333</td>\n",
       "    </tr>\n",
       "    <tr>\n",
       "      <th>11</th>\n",
       "      <td>2016-01-07</td>\n",
       "      <td>2017-05-24</td>\n",
       "      <td>2019-01-01</td>\n",
       "      <td>36.333333</td>\n",
       "      <td>16.766667</td>\n",
       "      <td>19.566667</td>\n",
       "    </tr>\n",
       "    <tr>\n",
       "      <th>15</th>\n",
       "      <td>2017-06-09</td>\n",
       "      <td>2018-08-27</td>\n",
       "      <td>2019-01-01</td>\n",
       "      <td>19.033333</td>\n",
       "      <td>14.800000</td>\n",
       "      <td>4.233333</td>\n",
       "    </tr>\n",
       "    <tr>\n",
       "      <th>18</th>\n",
       "      <td>2004-07-30</td>\n",
       "      <td>2004-07-30</td>\n",
       "      <td>2019-01-01</td>\n",
       "      <td>175.600000</td>\n",
       "      <td>0.000000</td>\n",
       "      <td>175.600000</td>\n",
       "    </tr>\n",
       "    <tr>\n",
       "      <th>...</th>\n",
       "      <td>...</td>\n",
       "      <td>...</td>\n",
       "      <td>...</td>\n",
       "      <td>...</td>\n",
       "      <td>...</td>\n",
       "      <td>...</td>\n",
       "    </tr>\n",
       "    <tr>\n",
       "      <th>208682</th>\n",
       "      <td>2015-12-04</td>\n",
       "      <td>2018-11-02</td>\n",
       "      <td>2019-01-01</td>\n",
       "      <td>37.466667</td>\n",
       "      <td>35.466667</td>\n",
       "      <td>2.000000</td>\n",
       "    </tr>\n",
       "    <tr>\n",
       "      <th>208683</th>\n",
       "      <td>2015-03-12</td>\n",
       "      <td>2018-03-02</td>\n",
       "      <td>2019-01-01</td>\n",
       "      <td>46.366667</td>\n",
       "      <td>36.200000</td>\n",
       "      <td>10.166667</td>\n",
       "    </tr>\n",
       "    <tr>\n",
       "      <th>208694</th>\n",
       "      <td>2015-06-23</td>\n",
       "      <td>2015-06-23</td>\n",
       "      <td>2019-01-01</td>\n",
       "      <td>42.933333</td>\n",
       "      <td>0.000000</td>\n",
       "      <td>42.933333</td>\n",
       "    </tr>\n",
       "    <tr>\n",
       "      <th>208695</th>\n",
       "      <td>2014-04-13</td>\n",
       "      <td>2014-04-13</td>\n",
       "      <td>2019-01-01</td>\n",
       "      <td>57.466667</td>\n",
       "      <td>0.000000</td>\n",
       "      <td>57.466667</td>\n",
       "    </tr>\n",
       "    <tr>\n",
       "      <th>208716</th>\n",
       "      <td>2015-07-08</td>\n",
       "      <td>2018-06-02</td>\n",
       "      <td>2019-01-01</td>\n",
       "      <td>42.433333</td>\n",
       "      <td>35.333333</td>\n",
       "      <td>7.100000</td>\n",
       "    </tr>\n",
       "  </tbody>\n",
       "</table>\n",
       "<p>23191 rows × 6 columns</p>\n",
       "</div>"
      ],
      "text/plain": [
       "       First_product_dt Last_product_dt      Month  Months_From_First_Product  \\\n",
       "2            2016-08-31      2018-12-27 2019-01-01                  28.433333   \n",
       "10           2014-04-29      2017-05-31 2019-01-01                  56.933333   \n",
       "11           2016-01-07      2017-05-24 2019-01-01                  36.333333   \n",
       "15           2017-06-09      2018-08-27 2019-01-01                  19.033333   \n",
       "18           2004-07-30      2004-07-30 2019-01-01                 175.600000   \n",
       "...                 ...             ...        ...                        ...   \n",
       "208682       2015-12-04      2018-11-02 2019-01-01                  37.466667   \n",
       "208683       2015-03-12      2018-03-02 2019-01-01                  46.366667   \n",
       "208694       2015-06-23      2015-06-23 2019-01-01                  42.933333   \n",
       "208695       2014-04-13      2014-04-13 2019-01-01                  57.466667   \n",
       "208716       2015-07-08      2018-06-02 2019-01-01                  42.433333   \n",
       "\n",
       "        Months_From_First_Last_Product  Months_From_Last_Product  \n",
       "2                            28.266667                  0.166667  \n",
       "10                           37.600000                 19.333333  \n",
       "11                           16.766667                 19.566667  \n",
       "15                           14.800000                  4.233333  \n",
       "18                            0.000000                175.600000  \n",
       "...                                ...                       ...  \n",
       "208682                       35.466667                  2.000000  \n",
       "208683                       36.200000                 10.166667  \n",
       "208694                        0.000000                 42.933333  \n",
       "208695                        0.000000                 57.466667  \n",
       "208716                       35.333333                  7.100000  \n",
       "\n",
       "[23191 rows x 6 columns]"
      ]
     },
     "execution_count": 744,
     "metadata": {},
     "output_type": "execute_result"
    }
   ],
   "source": [
    "identity_features[['First_product_dt', 'Last_product_dt', 'Month', 'Months_From_First_Product', 'Months_From_First_Last_Product', 'Months_From_Last_Product']]"
   ]
  },
  {
   "cell_type": "code",
   "execution_count": 745,
   "metadata": {},
   "outputs": [
    {
     "name": "stdout",
     "output_type": "stream",
     "text": [
      "Existen meses en negativo: True\n"
     ]
    },
    {
     "data": {
      "text/html": [
       "<div>\n",
       "<style scoped>\n",
       "    .dataframe tbody tr th:only-of-type {\n",
       "        vertical-align: middle;\n",
       "    }\n",
       "\n",
       "    .dataframe tbody tr th {\n",
       "        vertical-align: top;\n",
       "    }\n",
       "\n",
       "    .dataframe thead th {\n",
       "        text-align: right;\n",
       "    }\n",
       "</style>\n",
       "<table border=\"1\" class=\"dataframe\">\n",
       "  <thead>\n",
       "    <tr style=\"text-align: right;\">\n",
       "      <th></th>\n",
       "      <th>First_product_dt</th>\n",
       "      <th>Last_product_dt</th>\n",
       "      <th>Month</th>\n",
       "      <th>Months_From_First_Product</th>\n",
       "      <th>Months_From_First_Last_Product</th>\n",
       "      <th>Months_From_Last_Product</th>\n",
       "    </tr>\n",
       "  </thead>\n",
       "  <tbody>\n",
       "    <tr>\n",
       "      <th>2</th>\n",
       "      <td>2016-08-31</td>\n",
       "      <td>2018-12-27</td>\n",
       "      <td>2019-01-01</td>\n",
       "      <td>28.433333</td>\n",
       "      <td>28.266667</td>\n",
       "      <td>0.166667</td>\n",
       "    </tr>\n",
       "    <tr>\n",
       "      <th>10</th>\n",
       "      <td>2014-04-29</td>\n",
       "      <td>2017-05-31</td>\n",
       "      <td>2019-01-01</td>\n",
       "      <td>56.933333</td>\n",
       "      <td>37.600000</td>\n",
       "      <td>19.333333</td>\n",
       "    </tr>\n",
       "    <tr>\n",
       "      <th>11</th>\n",
       "      <td>2016-01-07</td>\n",
       "      <td>2017-05-24</td>\n",
       "      <td>2019-01-01</td>\n",
       "      <td>36.333333</td>\n",
       "      <td>16.766667</td>\n",
       "      <td>19.566667</td>\n",
       "    </tr>\n",
       "    <tr>\n",
       "      <th>15</th>\n",
       "      <td>2017-06-09</td>\n",
       "      <td>2018-08-27</td>\n",
       "      <td>2019-01-01</td>\n",
       "      <td>19.033333</td>\n",
       "      <td>14.800000</td>\n",
       "      <td>4.233333</td>\n",
       "    </tr>\n",
       "    <tr>\n",
       "      <th>18</th>\n",
       "      <td>2004-07-30</td>\n",
       "      <td>2004-07-30</td>\n",
       "      <td>2019-01-01</td>\n",
       "      <td>175.600000</td>\n",
       "      <td>0.000000</td>\n",
       "      <td>175.600000</td>\n",
       "    </tr>\n",
       "    <tr>\n",
       "      <th>...</th>\n",
       "      <td>...</td>\n",
       "      <td>...</td>\n",
       "      <td>...</td>\n",
       "      <td>...</td>\n",
       "      <td>...</td>\n",
       "      <td>...</td>\n",
       "    </tr>\n",
       "    <tr>\n",
       "      <th>208682</th>\n",
       "      <td>2015-12-04</td>\n",
       "      <td>2018-11-02</td>\n",
       "      <td>2019-01-01</td>\n",
       "      <td>37.466667</td>\n",
       "      <td>35.466667</td>\n",
       "      <td>2.000000</td>\n",
       "    </tr>\n",
       "    <tr>\n",
       "      <th>208683</th>\n",
       "      <td>2015-03-12</td>\n",
       "      <td>2018-03-02</td>\n",
       "      <td>2019-01-01</td>\n",
       "      <td>46.366667</td>\n",
       "      <td>36.200000</td>\n",
       "      <td>10.166667</td>\n",
       "    </tr>\n",
       "    <tr>\n",
       "      <th>208694</th>\n",
       "      <td>2015-06-23</td>\n",
       "      <td>2015-06-23</td>\n",
       "      <td>2019-01-01</td>\n",
       "      <td>42.933333</td>\n",
       "      <td>0.000000</td>\n",
       "      <td>42.933333</td>\n",
       "    </tr>\n",
       "    <tr>\n",
       "      <th>208695</th>\n",
       "      <td>2014-04-13</td>\n",
       "      <td>2014-04-13</td>\n",
       "      <td>2019-01-01</td>\n",
       "      <td>57.466667</td>\n",
       "      <td>0.000000</td>\n",
       "      <td>57.466667</td>\n",
       "    </tr>\n",
       "    <tr>\n",
       "      <th>208716</th>\n",
       "      <td>2015-07-08</td>\n",
       "      <td>2018-06-02</td>\n",
       "      <td>2019-01-01</td>\n",
       "      <td>42.433333</td>\n",
       "      <td>35.333333</td>\n",
       "      <td>7.100000</td>\n",
       "    </tr>\n",
       "  </tbody>\n",
       "</table>\n",
       "<p>23191 rows × 6 columns</p>\n",
       "</div>"
      ],
      "text/plain": [
       "       First_product_dt Last_product_dt      Month  Months_From_First_Product  \\\n",
       "2            2016-08-31      2018-12-27 2019-01-01                  28.433333   \n",
       "10           2014-04-29      2017-05-31 2019-01-01                  56.933333   \n",
       "11           2016-01-07      2017-05-24 2019-01-01                  36.333333   \n",
       "15           2017-06-09      2018-08-27 2019-01-01                  19.033333   \n",
       "18           2004-07-30      2004-07-30 2019-01-01                 175.600000   \n",
       "...                 ...             ...        ...                        ...   \n",
       "208682       2015-12-04      2018-11-02 2019-01-01                  37.466667   \n",
       "208683       2015-03-12      2018-03-02 2019-01-01                  46.366667   \n",
       "208694       2015-06-23      2015-06-23 2019-01-01                  42.933333   \n",
       "208695       2014-04-13      2014-04-13 2019-01-01                  57.466667   \n",
       "208716       2015-07-08      2018-06-02 2019-01-01                  42.433333   \n",
       "\n",
       "        Months_From_First_Last_Product  Months_From_Last_Product  \n",
       "2                            28.266667                  0.166667  \n",
       "10                           37.600000                 19.333333  \n",
       "11                           16.766667                 19.566667  \n",
       "15                           14.800000                  4.233333  \n",
       "18                            0.000000                175.600000  \n",
       "...                                ...                       ...  \n",
       "208682                       35.466667                  2.000000  \n",
       "208683                       36.200000                 10.166667  \n",
       "208694                        0.000000                 42.933333  \n",
       "208695                        0.000000                 57.466667  \n",
       "208716                       35.333333                  7.100000  \n",
       "\n",
       "[23191 rows x 6 columns]"
      ]
     },
     "execution_count": 745,
     "metadata": {},
     "output_type": "execute_result"
    }
   ],
   "source": [
    "# Se cambia los meses con negativos a ceros\n",
    "print(f\"Existen meses en negativo: {any(ele < 0 for ele in identity_features['Months_From_Last_Product'])}\")\n",
    "\n",
    "identity_features['Months_From_First_Product'] = np.where(identity_features['Months_From_First_Product'] < 0, 0, identity_features['Months_From_First_Product'])\n",
    "identity_features['Months_From_First_Last_Product'] = np.where(identity_features['Months_From_First_Last_Product'] < 0, 0, identity_features['Months_From_First_Last_Product'])\n",
    "identity_features['Months_From_Last_Product'] = np.where(identity_features['Months_From_Last_Product'] < 0, 0, identity_features['Months_From_Last_Product'])\n",
    "\n",
    "identity_features[['First_product_dt', 'Last_product_dt', 'Month', 'Months_From_First_Product', 'Months_From_First_Last_Product', 'Months_From_Last_Product']]"
   ]
  },
  {
   "cell_type": "code",
   "execution_count": 746,
   "metadata": {},
   "outputs": [],
   "source": [
    "# Se eliminan las fechas\n",
    "identity_features.drop(['First_product_dt', 'Last_product_dt', 'Month'], inplace=True, axis=1)"
   ]
  },
  {
   "cell_type": "markdown",
   "metadata": {},
   "source": [
    "### CU: Find Missing Values"
   ]
  },
  {
   "cell_type": "code",
   "execution_count": 747,
   "metadata": {},
   "outputs": [
    {
     "data": {
      "text/plain": [
       "Index(['client_id', 'CreditCard_Premium', 'CreditCard_Active', 'Loan_Active',\n",
       "       'Mortgage_Active', 'SavingAccount_Active_ARG_Salary',\n",
       "       'SavingAccount_Active_ARG', 'SavingAccount_Active_DOLLAR',\n",
       "       'DebitCard_Active', 'Investment_Active', 'Insurance_Life',\n",
       "       'Insurance_Home', 'Insurance_Accidents', 'Insurance_Mobile',\n",
       "       'Insurance_ATM', 'Insurance_Unemployment', 'Sex', 'Client_Age_grp',\n",
       "       'Mobile', 'Email', 'Region', 'CreditCard_Product',\n",
       "       'Client_Age_grp_ordinal', 'Active_Products',\n",
       "       'Months_From_First_Product', 'Months_From_First_Last_Product',\n",
       "       'Months_From_Last_Product'],\n",
       "      dtype='object')"
      ]
     },
     "execution_count": 747,
     "metadata": {},
     "output_type": "execute_result"
    }
   ],
   "source": [
    "identity_features.columns"
   ]
  },
  {
   "cell_type": "code",
   "execution_count": 748,
   "metadata": {},
   "outputs": [
    {
     "data": {
      "text/plain": [
       "['Region', 'CreditCard_Product']"
      ]
     },
     "execution_count": 748,
     "metadata": {},
     "output_type": "execute_result"
    }
   ],
   "source": [
    "# Busco columnas con nulos en los features\n",
    "identity_features.columns[identity_features.isnull().any()].tolist()"
   ]
  },
  {
   "cell_type": "code",
   "execution_count": 749,
   "metadata": {},
   "outputs": [],
   "source": [
    "# Elimino Region\n",
    "identity_features.drop(['Region'], inplace=True, axis=1)"
   ]
  },
  {
   "cell_type": "code",
   "execution_count": 750,
   "metadata": {},
   "outputs": [
    {
     "data": {
      "text/html": [
       "<div>\n",
       "<style scoped>\n",
       "    .dataframe tbody tr th:only-of-type {\n",
       "        vertical-align: middle;\n",
       "    }\n",
       "\n",
       "    .dataframe tbody tr th {\n",
       "        vertical-align: top;\n",
       "    }\n",
       "\n",
       "    .dataframe thead th {\n",
       "        text-align: right;\n",
       "    }\n",
       "</style>\n",
       "<table border=\"1\" class=\"dataframe\">\n",
       "  <thead>\n",
       "    <tr style=\"text-align: right;\">\n",
       "      <th></th>\n",
       "      <th>CreditCard_Active</th>\n",
       "      <th>count</th>\n",
       "    </tr>\n",
       "  </thead>\n",
       "  <tbody>\n",
       "    <tr>\n",
       "      <th>0</th>\n",
       "      <td>Yes</td>\n",
       "      <td>15023</td>\n",
       "    </tr>\n",
       "    <tr>\n",
       "      <th>1</th>\n",
       "      <td>No</td>\n",
       "      <td>8168</td>\n",
       "    </tr>\n",
       "  </tbody>\n",
       "</table>\n",
       "</div>"
      ],
      "text/plain": [
       "  CreditCard_Active  count\n",
       "0               Yes  15023\n",
       "1                No   8168"
      ]
     },
     "execution_count": 750,
     "metadata": {},
     "output_type": "execute_result"
    }
   ],
   "source": [
    "# Existen tarjetas de creditos activos?\n",
    "identity_features['CreditCard_Active'].value_counts().reset_index()"
   ]
  },
  {
   "cell_type": "code",
   "execution_count": 751,
   "metadata": {},
   "outputs": [
    {
     "data": {
      "text/plain": [
       "Month       CreditCard_Product\n",
       "2019-03-01  J55660102XX012         417\n",
       "            J55660104XX012        8655\n",
       "            J55660123XX012         388\n",
       "            J55660124XX012        2491\n",
       "            J55660202XX012        6032\n",
       "            J55660702XX012         282\n",
       "            J55661002XX012          67\n",
       "2019-04-01  J55660102XX012         417\n",
       "            J55660104XX012        8643\n",
       "            J55660123XX012         386\n",
       "            J55660124XX012        2487\n",
       "            J55660202XX012        6015\n",
       "            J55660702XX012         285\n",
       "            J55661002XX012          71\n",
       "dtype: int64"
      ]
     },
     "execution_count": 751,
     "metadata": {},
     "output_type": "execute_result"
    }
   ],
   "source": [
    "# Como existen CreditCard_Active, tiene que existir CreditCard_Product. Una opcion es traer los datos de otra ventana,\n",
    "# ya que no es un dato que cambie mucho en el tiempo\n",
    "data.groupby(['Month', 'CreditCard_Product']).size()"
   ]
  },
  {
   "cell_type": "code",
   "execution_count": 752,
   "metadata": {},
   "outputs": [],
   "source": [
    "cc_product = data[data.Month == '2019-03-01'].groupby(['client_id', 'CreditCard_Product']).size().reset_index()"
   ]
  },
  {
   "cell_type": "code",
   "execution_count": 753,
   "metadata": {},
   "outputs": [],
   "source": [
    "identity_features.drop(['CreditCard_Product'], inplace=True, axis=1)"
   ]
  },
  {
   "cell_type": "code",
   "execution_count": 754,
   "metadata": {},
   "outputs": [
    {
     "data": {
      "text/plain": [
       "CreditCard_Active  CreditCard_Product\n",
       "No                 J55660102XX012           7\n",
       "                   J55660104XX012         148\n",
       "                   J55660123XX012           7\n",
       "                   J55660124XX012          37\n",
       "                   J55660202XX012         101\n",
       "                   J55660702XX012          13\n",
       "                   J55661002XX012           3\n",
       "Yes                J55660102XX012         402\n",
       "                   J55660104XX012        8279\n",
       "                   J55660123XX012           1\n",
       "                   J55660124XX012          29\n",
       "                   J55660202XX012        5777\n",
       "                   J55660702XX012         248\n",
       "                   J55661002XX012          58\n",
       "dtype: int64"
      ]
     },
     "execution_count": 754,
     "metadata": {},
     "output_type": "execute_result"
    }
   ],
   "source": [
    "identity_features = identity_features.merge(cc_product[['client_id', 'CreditCard_Product']], how='left', on='client_id')\n",
    "identity_features.groupby(['CreditCard_Active', 'CreditCard_Product']).size()"
   ]
  },
  {
   "cell_type": "code",
   "execution_count": 755,
   "metadata": {},
   "outputs": [
    {
     "data": {
      "text/plain": [
       "CreditCard_Active  CreditCard_Product\n",
       "No                 No                    8168\n",
       "Yes                J55660102XX012         402\n",
       "                   J55660104XX012        8279\n",
       "                   J55660123XX012           1\n",
       "                   J55660124XX012          29\n",
       "                   J55660202XX012        5777\n",
       "                   J55660702XX012         248\n",
       "                   J55661002XX012          58\n",
       "dtype: int64"
      ]
     },
     "execution_count": 755,
     "metadata": {},
     "output_type": "execute_result"
    }
   ],
   "source": [
    "# No puede existir CreditCard_Product sin CreditCard_Active. Se limpia el dato\n",
    "identity_features['CreditCard_Product'] = np.where(identity_features.CreditCard_Active == 'No', 'No', identity_features.CreditCard_Product)\n",
    "identity_features.groupby(['CreditCard_Active', 'CreditCard_Product']).size()"
   ]
  },
  {
   "cell_type": "code",
   "execution_count": 756,
   "metadata": {},
   "outputs": [],
   "source": [
    "#identity_features.columns[identity_features.isnull().any()].tolist()\n",
    "#identity_features[identity_features.CreditCard_Product.isnull()][['client_id']]"
   ]
  },
  {
   "cell_type": "code",
   "execution_count": 757,
   "metadata": {},
   "outputs": [
    {
     "data": {
      "text/html": [
       "<div>\n",
       "<style scoped>\n",
       "    .dataframe tbody tr th:only-of-type {\n",
       "        vertical-align: middle;\n",
       "    }\n",
       "\n",
       "    .dataframe tbody tr th {\n",
       "        vertical-align: top;\n",
       "    }\n",
       "\n",
       "    .dataframe thead th {\n",
       "        text-align: right;\n",
       "    }\n",
       "</style>\n",
       "<table border=\"1\" class=\"dataframe\">\n",
       "  <thead>\n",
       "    <tr style=\"text-align: right;\">\n",
       "      <th></th>\n",
       "      <th>CreditCard_Product</th>\n",
       "      <th>count</th>\n",
       "    </tr>\n",
       "  </thead>\n",
       "  <tbody>\n",
       "    <tr>\n",
       "      <th>0</th>\n",
       "      <td>J55660104XX012</td>\n",
       "      <td>8279</td>\n",
       "    </tr>\n",
       "    <tr>\n",
       "      <th>1</th>\n",
       "      <td>No</td>\n",
       "      <td>8168</td>\n",
       "    </tr>\n",
       "    <tr>\n",
       "      <th>2</th>\n",
       "      <td>J55660202XX012</td>\n",
       "      <td>5777</td>\n",
       "    </tr>\n",
       "    <tr>\n",
       "      <th>3</th>\n",
       "      <td>J55660102XX012</td>\n",
       "      <td>402</td>\n",
       "    </tr>\n",
       "    <tr>\n",
       "      <th>4</th>\n",
       "      <td>J55660702XX012</td>\n",
       "      <td>248</td>\n",
       "    </tr>\n",
       "    <tr>\n",
       "      <th>5</th>\n",
       "      <td>J55661002XX012</td>\n",
       "      <td>58</td>\n",
       "    </tr>\n",
       "    <tr>\n",
       "      <th>6</th>\n",
       "      <td>J55660124XX012</td>\n",
       "      <td>29</td>\n",
       "    </tr>\n",
       "    <tr>\n",
       "      <th>7</th>\n",
       "      <td>J55660123XX012</td>\n",
       "      <td>1</td>\n",
       "    </tr>\n",
       "  </tbody>\n",
       "</table>\n",
       "</div>"
      ],
      "text/plain": [
       "  CreditCard_Product  count\n",
       "0     J55660104XX012   8279\n",
       "1                 No   8168\n",
       "2     J55660202XX012   5777\n",
       "3     J55660102XX012    402\n",
       "4     J55660702XX012    248\n",
       "5     J55661002XX012     58\n",
       "6     J55660124XX012     29\n",
       "7     J55660123XX012      1"
      ]
     },
     "execution_count": 757,
     "metadata": {},
     "output_type": "execute_result"
    }
   ],
   "source": [
    "identity_features.CreditCard_Product.value_counts().reset_index()"
   ]
  },
  {
   "cell_type": "code",
   "execution_count": 758,
   "metadata": {},
   "outputs": [
    {
     "data": {
      "text/plain": [
       "['SavingAccount_Balance_Average']"
      ]
     },
     "execution_count": 758,
     "metadata": {},
     "output_type": "execute_result"
    }
   ],
   "source": [
    "# Busco nulos en el universo del training window\n",
    "training_window_universe.columns[training_window_universe.isnull().any()].tolist()"
   ]
  },
  {
   "cell_type": "code",
   "execution_count": 759,
   "metadata": {},
   "outputs": [
    {
     "data": {
      "text/html": [
       "<div>\n",
       "<style scoped>\n",
       "    .dataframe tbody tr th:only-of-type {\n",
       "        vertical-align: middle;\n",
       "    }\n",
       "\n",
       "    .dataframe tbody tr th {\n",
       "        vertical-align: top;\n",
       "    }\n",
       "\n",
       "    .dataframe thead th {\n",
       "        text-align: right;\n",
       "    }\n",
       "</style>\n",
       "<table border=\"1\" class=\"dataframe\">\n",
       "  <thead>\n",
       "    <tr style=\"text-align: right;\">\n",
       "      <th></th>\n",
       "      <th>client_id</th>\n",
       "      <th>SavingAccount_Balance_Average</th>\n",
       "      <th>SavingAccount_Balance_FirstDate</th>\n",
       "      <th>SavingAccount_Balance_LastDate</th>\n",
       "    </tr>\n",
       "  </thead>\n",
       "  <tbody>\n",
       "    <tr>\n",
       "      <th>71262</th>\n",
       "      <td>4473325</td>\n",
       "      <td>NaN</td>\n",
       "      <td>149.56</td>\n",
       "      <td>261.46</td>\n",
       "    </tr>\n",
       "    <tr>\n",
       "      <th>71263</th>\n",
       "      <td>4837071</td>\n",
       "      <td>NaN</td>\n",
       "      <td>43.53</td>\n",
       "      <td>10608.05</td>\n",
       "    </tr>\n",
       "    <tr>\n",
       "      <th>71265</th>\n",
       "      <td>4525957</td>\n",
       "      <td>NaN</td>\n",
       "      <td>935.82</td>\n",
       "      <td>821.72</td>\n",
       "    </tr>\n",
       "    <tr>\n",
       "      <th>208716</th>\n",
       "      <td>6412619</td>\n",
       "      <td>NaN</td>\n",
       "      <td>68.91</td>\n",
       "      <td>83.87</td>\n",
       "    </tr>\n",
       "  </tbody>\n",
       "</table>\n",
       "</div>"
      ],
      "text/plain": [
       "        client_id  SavingAccount_Balance_Average  \\\n",
       "71262     4473325                            NaN   \n",
       "71263     4837071                            NaN   \n",
       "71265     4525957                            NaN   \n",
       "208716    6412619                            NaN   \n",
       "\n",
       "        SavingAccount_Balance_FirstDate  SavingAccount_Balance_LastDate  \n",
       "71262                            149.56                          261.46  \n",
       "71263                             43.53                        10608.05  \n",
       "71265                            935.82                          821.72  \n",
       "208716                            68.91                           83.87  "
      ]
     },
     "execution_count": 759,
     "metadata": {},
     "output_type": "execute_result"
    }
   ],
   "source": [
    "training_window_universe[training_window_universe.SavingAccount_Balance_Average.isnull()][['client_id', 'SavingAccount_Balance_Average',\n",
    "                                                                    'SavingAccount_Balance_FirstDate', 'SavingAccount_Balance_LastDate']]"
   ]
  },
  {
   "cell_type": "code",
   "execution_count": 760,
   "metadata": {},
   "outputs": [
    {
     "name": "stderr",
     "output_type": "stream",
     "text": [
      "/tmp/ipykernel_1424521/3369753239.py:1: SettingWithCopyWarning: \n",
      "A value is trying to be set on a copy of a slice from a DataFrame.\n",
      "Try using .loc[row_indexer,col_indexer] = value instead\n",
      "\n",
      "See the caveats in the documentation: https://pandas.pydata.org/pandas-docs/stable/user_guide/indexing.html#returning-a-view-versus-a-copy\n",
      "  training_window_universe['SavingAccount_Balance_Average'] = np.where(training_window_universe.SavingAccount_Balance_Average.isnull(),\n"
     ]
    },
    {
     "data": {
      "text/plain": [
       "[]"
      ]
     },
     "execution_count": 760,
     "metadata": {},
     "output_type": "execute_result"
    }
   ],
   "source": [
    "training_window_universe['SavingAccount_Balance_Average'] = np.where(training_window_universe.SavingAccount_Balance_Average.isnull(),\n",
    "                training_window_universe.SavingAccount_Balance_FirstDate + training_window_universe.SavingAccount_Credits_Amounts - training_window_universe.SavingAccount_Debits_Amounts,\n",
    "                training_window_universe.SavingAccount_Balance_Average)\n",
    "\n",
    "training_window_universe.columns[training_window_universe.isnull().any()].tolist()"
   ]
  }
 ],
 "metadata": {
  "kernelspec": {
   "display_name": "ml",
   "language": "python",
   "name": "python3"
  },
  "language_info": {
   "codemirror_mode": {
    "name": "ipython",
    "version": 3
   },
   "file_extension": ".py",
   "mimetype": "text/x-python",
   "name": "python",
   "nbconvert_exporter": "python",
   "pygments_lexer": "ipython3",
   "version": "3.12.6"
  }
 },
 "nbformat": 4,
 "nbformat_minor": 2
}
